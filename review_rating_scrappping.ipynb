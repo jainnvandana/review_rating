{
 "cells": [
  {
   "cell_type": "code",
   "execution_count": 1,
   "metadata": {},
   "outputs": [],
   "source": [
    "#import all the required libraries\n",
    "import pandas as pd\n",
    "from bs4 import BeautifulSoup\n",
    "import requests\n",
    "import selenium\n",
    "from selenium import webdriver\n",
    "from webdriver_manager.chrome import ChromeDriverManager\n",
    "from selenium.webdriver.chrome.options import Options\n",
    "from selenium.webdriver.common.by import By\n",
    "from selenium.webdriver.support.ui import WebDriverWait\n",
    "from selenium.webdriver.support import expected_conditions as EC\n",
    "from selenium.common.exceptions import StaleElementReferenceException, NoSuchElementException ,TimeoutException"
   ]
  },
  {
   "cell_type": "code",
   "execution_count": 2,
   "metadata": {},
   "outputs": [
    {
     "name": "stderr",
     "output_type": "stream",
     "text": [
      "\n",
      "\n",
      "====== WebDriver manager ======\n",
      "Current google-chrome version is 90.0.4430\n",
      "Get LATEST driver version for 90.0.4430\n",
      "Get LATEST driver version for 90.0.4430\n",
      "Trying to download new driver from https://chromedriver.storage.googleapis.com/90.0.4430.24/chromedriver_win32.zip\n",
      "Driver has been saved in cache [C:\\Users\\Vandana\\.wdm\\drivers\\chromedriver\\win32\\90.0.4430.24]\n"
     ]
    }
   ],
   "source": [
    "chrome_options = webdriver.ChromeOptions()\n",
    "chrome_options.add_argument(\"--incognito\")\n",
    "driver = webdriver.Chrome(ChromeDriverManager().install())\n"
   ]
  },
  {
   "cell_type": "code",
   "execution_count": 3,
   "metadata": {},
   "outputs": [],
   "source": [
    "driver.get(\"https://www.amazon.com/\")\n",
    "page = requests.get(\"https://www.amazon.com/\")\n",
    "soup=BeautifulSoup(page.content,'html.parser')"
   ]
  },
  {
   "cell_type": "code",
   "execution_count": 4,
   "metadata": {},
   "outputs": [],
   "source": [
    "productname=['laptops','Phones','Headphones','smart watches', 'Professional Cameras',\n",
    "             'Printers','monitors','Home theater','router']\n",
    "prolink=[]\n",
    "review=[]\n",
    "rating=[]\n",
    "abc=[]\n",
    "efg=[]\n",
    "ijk=[]"
   ]
  },
  {
   "cell_type": "code",
   "execution_count": 5,
   "metadata": {},
   "outputs": [],
   "source": [
    "for m in productname:\n",
    "    search = driver. find_element_by_xpath(\"//input[@id = 'twotabsearchtextbox']\")\n",
    "    search.clear()\n",
    "    search.send_keys(m)\n",
    "    search_btn = driver.find_element_by_xpath(\"//div[@class = 'nav-search-submit nav-sprite']/span/input\")\n",
    "    search_btn.click()\n",
    "    for j in range(0,19):\n",
    "        hlink=driver.find_elements_by_xpath(\"//h2[@class='a-size-mini a-spacing-none a-color-base s-line-clamp-2']/a\")\n",
    "        for i in hlink:\n",
    "            h=i.get_attribute('href')\n",
    "            prolink.append(h)\n",
    "        nxt=driver.find_element_by_xpath(\"//li[@class='a-last']//a\")\n",
    "        nt=nxt.get_attribute(\"href\")\n",
    "        driver.get(nt)"
   ]
  },
  {
   "cell_type": "code",
   "execution_count": 6,
   "metadata": {},
   "outputs": [
    {
     "data": {
      "text/plain": [
       "3754"
      ]
     },
     "execution_count": 6,
     "metadata": {},
     "output_type": "execute_result"
    }
   ],
   "source": [
    "len(prolink)"
   ]
  },
  {
   "cell_type": "code",
   "execution_count": 11,
   "metadata": {},
   "outputs": [],
   "source": [
    "abc=[]"
   ]
  },
  {
   "cell_type": "code",
   "execution_count": 12,
   "metadata": {},
   "outputs": [],
   "source": [
    "for a in prolink:    \n",
    "    driver.get(a)\n",
    "    try:\n",
    "        xt=driver.find_element_by_xpath(\"//div[@class= 'a-row a-spacing-medium']/a\")\n",
    "        if xt != None:\n",
    "            tt=xt.get_attribute(\"href\")\n",
    "            driver.get(tt)\n",
    "            xt1=driver.find_elements_by_xpath(\"//div//a[@class= 'a-size-base a-link-normal review-title a-color-base review-title-content a-text-bold']\")       \n",
    "            if xt1 != None:\n",
    "                for i in xt1:\n",
    "                    h=i.get_attribute('href')\n",
    "                    abc.append(h)  \n",
    "    except(NoSuchElementException):\n",
    "        pass"
   ]
  },
  {
   "cell_type": "code",
   "execution_count": 13,
   "metadata": {},
   "outputs": [
    {
     "data": {
      "text/plain": [
       "30388"
      ]
     },
     "execution_count": 13,
     "metadata": {},
     "output_type": "execute_result"
    }
   ],
   "source": [
    "len(abc)"
   ]
  },
  {
   "cell_type": "code",
   "execution_count": 15,
   "metadata": {},
   "outputs": [],
   "source": [
    "review=[]\n",
    "rating=[]"
   ]
  },
  {
   "cell_type": "code",
   "execution_count": 16,
   "metadata": {},
   "outputs": [],
   "source": [
    "for a in abc:    \n",
    "    driver.get(a)\n",
    "    try:\n",
    "        xt=driver.find_element_by_xpath(\"//div//span[@class= 'a-size-medium a-color-base']\")\n",
    "        rating.append(xt.text)\n",
    "        xt1=driver.find_element_by_xpath(\"//div//span[@class= 'a-size-base review-text review-text-content']/span\")\n",
    "        review.append(xt1.text)\n",
    "    except(NoSuchElementException):\n",
    "        pass"
   ]
  },
  {
   "cell_type": "code",
   "execution_count": 17,
   "metadata": {},
   "outputs": [],
   "source": [
    "#creating a dataframe\n",
    "df=pd.DataFrame({'Review':review,\n",
    "                 'Rating':rating,})"
   ]
  },
  {
   "cell_type": "code",
   "execution_count": 18,
   "metadata": {},
   "outputs": [],
   "source": [
    "driver.close()"
   ]
  },
  {
   "cell_type": "code",
   "execution_count": 20,
   "metadata": {},
   "outputs": [],
   "source": [
    "df.to_csv('review_rating.csv')"
   ]
  },
  {
   "cell_type": "code",
   "execution_count": 21,
   "metadata": {},
   "outputs": [
    {
     "data": {
      "text/html": [
       "<div>\n",
       "<style scoped>\n",
       "    .dataframe tbody tr th:only-of-type {\n",
       "        vertical-align: middle;\n",
       "    }\n",
       "\n",
       "    .dataframe tbody tr th {\n",
       "        vertical-align: top;\n",
       "    }\n",
       "\n",
       "    .dataframe thead th {\n",
       "        text-align: right;\n",
       "    }\n",
       "</style>\n",
       "<table border=\"1\" class=\"dataframe\">\n",
       "  <thead>\n",
       "    <tr style=\"text-align: right;\">\n",
       "      <th></th>\n",
       "      <th>Review</th>\n",
       "      <th>Rating</th>\n",
       "    </tr>\n",
       "  </thead>\n",
       "  <tbody>\n",
       "    <tr>\n",
       "      <th>0</th>\n",
       "      <td>I’m really enjoying this laptop, though the di...</td>\n",
       "      <td>4.4 out of 5</td>\n",
       "    </tr>\n",
       "    <tr>\n",
       "      <th>1</th>\n",
       "      <td>First PC that I’ve ever owned that is faster t...</td>\n",
       "      <td>4.4 out of 5</td>\n",
       "    </tr>\n",
       "    <tr>\n",
       "      <th>2</th>\n",
       "      <td>Good PC for the money!</td>\n",
       "      <td>4.4 out of 5</td>\n",
       "    </tr>\n",
       "    <tr>\n",
       "      <th>3</th>\n",
       "      <td>Aspire 5, Ryzen 3, Vega 3 Graphics, 16GB RAM D...</td>\n",
       "      <td>4.5 out of 5</td>\n",
       "    </tr>\n",
       "    <tr>\n",
       "      <th>4</th>\n",
       "      <td>Very happy with this laptop. Extremely light. ...</td>\n",
       "      <td>4.5 out of 5</td>\n",
       "    </tr>\n",
       "    <tr>\n",
       "      <th>...</th>\n",
       "      <td>...</td>\n",
       "      <td>...</td>\n",
       "    </tr>\n",
       "    <tr>\n",
       "      <th>30376</th>\n",
       "      <td>Works like a charm. Thanks so much.</td>\n",
       "      <td>4.2 out of 5</td>\n",
       "    </tr>\n",
       "    <tr>\n",
       "      <th>30377</th>\n",
       "      <td>It was very easy to setup. It gives great cove...</td>\n",
       "      <td>4.2 out of 5</td>\n",
       "    </tr>\n",
       "    <tr>\n",
       "      <th>30378</th>\n",
       "      <td>quality equipment delivered 4 days early. Awesome</td>\n",
       "      <td>4.2 out of 5</td>\n",
       "    </tr>\n",
       "    <tr>\n",
       "      <th>30379</th>\n",
       "      <td>So far it's an awesome product.</td>\n",
       "      <td>4.2 out of 5</td>\n",
       "    </tr>\n",
       "    <tr>\n",
       "      <th>30380</th>\n",
       "      <td>easy connect yes it does reach 2300Square ft.</td>\n",
       "      <td>4.2 out of 5</td>\n",
       "    </tr>\n",
       "  </tbody>\n",
       "</table>\n",
       "<p>30381 rows × 2 columns</p>\n",
       "</div>"
      ],
      "text/plain": [
       "                                                  Review        Rating\n",
       "0      I’m really enjoying this laptop, though the di...  4.4 out of 5\n",
       "1      First PC that I’ve ever owned that is faster t...  4.4 out of 5\n",
       "2                                 Good PC for the money!  4.4 out of 5\n",
       "3      Aspire 5, Ryzen 3, Vega 3 Graphics, 16GB RAM D...  4.5 out of 5\n",
       "4      Very happy with this laptop. Extremely light. ...  4.5 out of 5\n",
       "...                                                  ...           ...\n",
       "30376                Works like a charm. Thanks so much.  4.2 out of 5\n",
       "30377  It was very easy to setup. It gives great cove...  4.2 out of 5\n",
       "30378  quality equipment delivered 4 days early. Awesome  4.2 out of 5\n",
       "30379                    So far it's an awesome product.  4.2 out of 5\n",
       "30380      easy connect yes it does reach 2300Square ft.  4.2 out of 5\n",
       "\n",
       "[30381 rows x 2 columns]"
      ]
     },
     "execution_count": 21,
     "metadata": {},
     "output_type": "execute_result"
    }
   ],
   "source": [
    "df"
   ]
  },
  {
   "cell_type": "code",
   "execution_count": null,
   "metadata": {},
   "outputs": [],
   "source": []
  }
 ],
 "metadata": {
  "kernelspec": {
   "display_name": "Python 3",
   "language": "python",
   "name": "python3"
  },
  "language_info": {
   "codemirror_mode": {
    "name": "ipython",
    "version": 3
   },
   "file_extension": ".py",
   "mimetype": "text/x-python",
   "name": "python",
   "nbconvert_exporter": "python",
   "pygments_lexer": "ipython3",
   "version": "3.8.5"
  }
 },
 "nbformat": 4,
 "nbformat_minor": 4
}
